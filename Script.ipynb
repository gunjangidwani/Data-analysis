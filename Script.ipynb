{
 "cells": [
  {
   "cell_type": "code",
   "execution_count": null,
   "metadata": {},
   "outputs": [],
   "source": [
    "! pip3 install pandas --break-system-packages"
   ]
  },
  {
   "cell_type": "code",
   "execution_count": null,
   "metadata": {},
   "outputs": [],
   "source": [
    "! pip3 install --upgrade setuptools "
   ]
  },
  {
   "cell_type": "code",
   "execution_count": null,
   "metadata": {},
   "outputs": [],
   "source": [
    "! pip3 install --upgrade pip"
   ]
  },
  {
   "cell_type": "code",
   "execution_count": null,
   "metadata": {},
   "outputs": [],
   "source": [
    "! pip3 install pandas --break-system-packages\n",
    "import pandas as py"
   ]
  },
  {
   "cell_type": "code",
   "execution_count": null,
   "metadata": {},
   "outputs": [],
   "source": [
    "!pip pandas --version"
   ]
  },
  {
   "cell_type": "code",
   "execution_count": null,
   "metadata": {},
   "outputs": [],
   "source": [
    "import pandas as py"
   ]
  },
  {
   "cell_type": "code",
   "execution_count": null,
   "metadata": {},
   "outputs": [],
   "source": [
    "!pip install wheel\n"
   ]
  },
  {
   "cell_type": "code",
   "execution_count": 2,
   "metadata": {},
   "outputs": [
    {
     "ename": "ImportError",
     "evalue": "No module named pandas",
     "output_type": "error",
     "traceback": [
      "\u001b[0;31m---------------------------------------------------------------------------\u001b[0m",
      "\u001b[0;31mImportError\u001b[0m                               Traceback (most recent call last)",
      "\u001b[0;32m<ipython-input-2-7dd3504c366f>\u001b[0m in \u001b[0;36m<module>\u001b[0;34m()\u001b[0m\n\u001b[0;32m----> 1\u001b[0;31m \u001b[0;32mimport\u001b[0m \u001b[0mpandas\u001b[0m \u001b[0;32mas\u001b[0m \u001b[0mpd\u001b[0m\u001b[0;34m\u001b[0m\u001b[0m\n\u001b[0m",
      "\u001b[0;31mImportError\u001b[0m: No module named pandas"
     ]
    }
   ],
   "source": [
    "import pandas as pd"
   ]
  },
  {
   "cell_type": "code",
   "execution_count": null,
   "metadata": {},
   "outputs": [],
   "source": [
    "python --version"
   ]
  },
  {
   "cell_type": "code",
   "execution_count": null,
   "metadata": {},
   "outputs": [],
   "source": [
    "import pandas as pd\n",
    "print(pd.__version__)"
   ]
  },
  {
   "cell_type": "code",
   "execution_count": 3,
   "metadata": {},
   "outputs": [
    {
     "name": "stdout",
     "output_type": "stream",
     "text": [
      "/Users/admin/.pyenv/versions/2.7.18/bin/python2.7\n"
     ]
    }
   ],
   "source": [
    "import sys\n",
    "print(sys.executable)"
   ]
  },
  {
   "cell_type": "code",
   "execution_count": 6,
   "metadata": {},
   "outputs": [
    {
     "name": "stdout",
     "output_type": "stream",
     "text": [
      "\u001b[33mDEPRECATION: Python 2.7 will reach the end of its life on January 1st, 2020. Please upgrade your Python as Python 2.7 won't be maintained after that date. A future version of pip will drop support for Python 2.7. More details about Python 2 support in pip, can be found at https://pip.pypa.io/en/latest/development/release-process/#python-2-support\u001b[0m\n",
      "\u001b[33mWARNING: Skipping pandas as it is not installed.\u001b[0m\n",
      "\u001b[33mDEPRECATION: Python 2.7 will reach the end of its life on January 1st, 2020. Please upgrade your Python as Python 2.7 won't be maintained after that date. A future version of pip will drop support for Python 2.7. More details about Python 2 support in pip, can be found at https://pip.pypa.io/en/latest/development/release-process/#python-2-support\u001b[0m\n",
      "Collecting pandas\n",
      "  Using cached https://files.pythonhosted.org/packages/b2/4c/b6f966ac91c5670ba4ef0b0b5613b5379e3c7abdfad4e7b89a87d73bae13/pandas-0.24.2.tar.gz\n",
      "\u001b[31m    ERROR: Command errored out with exit status 1:\n",
      "     command: /Users/admin/.pyenv/versions/2.7.18/bin/python2.7 -c 'import sys, setuptools, tokenize; sys.argv[0] = '\"'\"'/private/var/folders/83/r4t47wzs493dgt5bfj_w6hv80000gn/T/pip-install-UPhszw/pandas/setup.py'\"'\"'; __file__='\"'\"'/private/var/folders/83/r4t47wzs493dgt5bfj_w6hv80000gn/T/pip-install-UPhszw/pandas/setup.py'\"'\"';f=getattr(tokenize, '\"'\"'open'\"'\"', open)(__file__);code=f.read().replace('\"'\"'\\r\\n'\"'\"', '\"'\"'\\n'\"'\"');f.close();exec(compile(code, __file__, '\"'\"'exec'\"'\"'))' egg_info --egg-base pip-egg-info\n",
      "         cwd: /private/var/folders/83/r4t47wzs493dgt5bfj_w6hv80000gn/T/pip-install-UPhszw/pandas/\n",
      "    Complete output (25 lines):\n",
      "    Traceback (most recent call last):\n",
      "      File \"<string>\", line 1, in <module>\n",
      "      File \"/private/var/folders/83/r4t47wzs493dgt5bfj_w6hv80000gn/T/pip-install-UPhszw/pandas/setup.py\", line 746, in <module>\n",
      "        **setuptools_kwargs)\n",
      "      File \"/Users/admin/.pyenv/versions/2.7.18/lib/python2.7/site-packages/setuptools/__init__.py\", line 144, in setup\n",
      "        _install_setup_requires(attrs)\n",
      "      File \"/Users/admin/.pyenv/versions/2.7.18/lib/python2.7/site-packages/setuptools/__init__.py\", line 139, in _install_setup_requires\n",
      "        dist.fetch_build_eggs(dist.setup_requires)\n",
      "      File \"/Users/admin/.pyenv/versions/2.7.18/lib/python2.7/site-packages/setuptools/dist.py\", line 719, in fetch_build_eggs\n",
      "        replace_conflicting=True,\n",
      "      File \"/Users/admin/.pyenv/versions/2.7.18/lib/python2.7/site-packages/pkg_resources/__init__.py\", line 782, in resolve\n",
      "        replace_conflicting=replace_conflicting\n",
      "      File \"/Users/admin/.pyenv/versions/2.7.18/lib/python2.7/site-packages/pkg_resources/__init__.py\", line 1065, in best_match\n",
      "        return self.obtain(req, installer)\n",
      "      File \"/Users/admin/.pyenv/versions/2.7.18/lib/python2.7/site-packages/pkg_resources/__init__.py\", line 1077, in obtain\n",
      "        return installer(requirement)\n",
      "      File \"/Users/admin/.pyenv/versions/2.7.18/lib/python2.7/site-packages/setuptools/dist.py\", line 786, in fetch_build_egg\n",
      "        return cmd.easy_install(req)\n",
      "      File \"/Users/admin/.pyenv/versions/2.7.18/lib/python2.7/site-packages/setuptools/command/easy_install.py\", line 679, in easy_install\n",
      "        return self.install_item(spec, dist.location, tmpdir, deps)\n",
      "      File \"/Users/admin/.pyenv/versions/2.7.18/lib/python2.7/site-packages/setuptools/command/easy_install.py\", line 705, in install_item\n",
      "        dists = self.install_eggs(spec, download, tmpdir)\n",
      "      File \"/Users/admin/.pyenv/versions/2.7.18/lib/python2.7/site-packages/setuptools/command/easy_install.py\", line 876, in install_eggs\n",
      "        os.path.abspath(dist_filename)\n",
      "    distutils.errors.DistutilsError: Couldn't find a setup script in /var/folders/83/r4t47wzs493dgt5bfj_w6hv80000gn/T/easy_install-KLLUvw/numpy-2.1.1.tar.gz\n",
      "    ----------------------------------------\u001b[0m\n",
      "\u001b[31mERROR: Command errored out with exit status 1: python setup.py egg_info Check the logs for full command output.\u001b[0m\n",
      "\u001b[33mWARNING: You are using pip version 19.2.3, however version 20.3.4 is available.\n",
      "You should consider upgrading via the 'pip install --upgrade pip' command.\u001b[0m\n"
     ]
    }
   ],
   "source": [
    "!pip uninstall pandas -y\n",
    "!pip install pandas "
   ]
  },
  {
   "cell_type": "code",
   "execution_count": null,
   "metadata": {},
   "outputs": [],
   "source": []
  }
 ],
 "metadata": {
  "kernelspec": {
   "display_name": "Python 2",
   "language": "python",
   "name": "python2"
  },
  "language_info": {
   "codemirror_mode": {
    "name": "ipython",
    "version": 2
   },
   "file_extension": ".py",
   "mimetype": "text/x-python",
   "name": "python",
   "nbconvert_exporter": "python",
   "pygments_lexer": "ipython2",
   "version": "2.7.18"
  }
 },
 "nbformat": 4,
 "nbformat_minor": 2
}
